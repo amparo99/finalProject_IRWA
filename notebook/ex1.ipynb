{
 "cells": [
  {
   "cell_type": "code",
   "execution_count": 1,
   "metadata": {},
   "outputs": [],
   "source": [
    "from IPython import get_ipython \n",
    "from nbformat import read"
   ]
  },
  {
   "cell_type": "code",
   "execution_count": 2,
   "metadata": {},
   "outputs": [],
   "source": [
    "import numpy as np\n",
    "import pandas as pd\n",
    "import matplotlib.pyplot as plt"
   ]
  },
  {
   "cell_type": "code",
   "execution_count": 3,
   "metadata": {
    "scrolled": true
   },
   "outputs": [
    {
     "name": "stdout",
     "output_type": "stream",
     "text": [
      "Requirement already satisfied: unidecode in /opt/anaconda3/lib/python3.7/site-packages (1.1.1)\r\n"
     ]
    },
    {
     "name": "stderr",
     "output_type": "stream",
     "text": [
      "[nltk_data] Downloading package stopwords to\n",
      "[nltk_data]     /Users/amparoalias/nltk_data...\n",
      "[nltk_data]   Package stopwords is already up-to-date!\n"
     ]
    }
   ],
   "source": [
    "import os \n",
    "path = os.path.dirname(os.path.realpath('ex1'))\n",
    "import sys \n",
    "sys.path.insert (0, path) \n",
    "import searchEngine as se"
   ]
  },
  {
   "cell_type": "code",
   "execution_count": 4,
   "metadata": {},
   "outputs": [],
   "source": [
    "df_tweets = se.df_tweets"
   ]
  },
  {
   "cell_type": "markdown",
   "metadata": {},
   "source": [
    "## Ranking of the queries with tf-idf"
   ]
  },
  {
   "cell_type": "code",
   "execution_count": null,
   "metadata": {},
   "outputs": [],
   "source": [
    "results = userInteraction(df_tweets)\n",
    "totalresults = totalresults.append(results)"
   ]
  },
  {
   "cell_type": "code",
   "execution_count": null,
   "metadata": {},
   "outputs": [],
   "source": [
    "totalresults.to_csv(\"../other_outputs/rq1b.tsv\", sep=\"\\t\")"
   ]
  },
  {
   "cell_type": "markdown",
   "metadata": {},
   "source": [
    "## Word2Vec"
   ]
  },
  {
   "cell_type": "markdown",
   "metadata": {},
   "source": [
    "#### Training the model of word2vec"
   ]
  },
  {
   "cell_type": "code",
   "execution_count": 5,
   "metadata": {
    "scrolled": true
   },
   "outputs": [],
   "source": [
    "#!pip install gensim"
   ]
  },
  {
   "cell_type": "code",
   "execution_count": 6,
   "metadata": {},
   "outputs": [],
   "source": [
    "from gensim.models import Word2Vec"
   ]
  },
  {
   "cell_type": "code",
   "execution_count": 7,
   "metadata": {},
   "outputs": [],
   "source": [
    "model = Word2Vec(window=5, min_count=1, workers=4,size=10)\n",
    "\n",
    "tweets_cleaned = [se.getTerms(text) for text in df_tweets[\"full_text\"]]\n",
    "model.build_vocab(tweets_cleaned)"
   ]
  },
  {
   "cell_type": "code",
   "execution_count": 8,
   "metadata": {},
   "outputs": [
    {
     "data": {
      "text/plain": [
       "(2289013, 2528250)"
      ]
     },
     "execution_count": 8,
     "metadata": {},
     "output_type": "execute_result"
    }
   ],
   "source": [
    "model.train(tweets_cleaned,total_examples=len(tweets_cleaned),epochs=10)"
   ]
  },
  {
   "cell_type": "markdown",
   "metadata": {},
   "source": [
    "#### Transformation of tweets and the query"
   ]
  },
  {
   "cell_type": "code",
   "execution_count": 9,
   "metadata": {},
   "outputs": [],
   "source": [
    "def tweet2vec(text,word2vec):\n",
    "    for i,word in enumerate(text):\n",
    "        #print(word)\n",
    "    \n",
    "        word_vector = word2vec[word]\n",
    "        #print(word_vector.shape)\n",
    "        if i  > 0:\n",
    "            vectors = np.concatenate([vectors,word_vector])\n",
    "        if i == 0:\n",
    "            vectors = word_vector  \n",
    "    return vectors.reshape(len(text),-1).mean(axis=0)\n"
   ]
  },
  {
   "cell_type": "code",
   "execution_count": 10,
   "metadata": {},
   "outputs": [],
   "source": [
    "def query2vec(query, word2vec):\n",
    "    query=se.getTerms(query)\n",
    "    for i,word in enumerate(query):\n",
    "        #print(word)\n",
    "    \n",
    "        word_vector = word2vec[word]\n",
    "        #print(word_vector.shape)\n",
    "        if i  > 0:\n",
    "            vectors = np.concatenate([vectors,word_vector])\n",
    "        if i == 0:\n",
    "            vectors = word_vector  \n",
    "    return vectors.reshape(len(query),-1).mean(axis=0)\n"
   ]
  },
  {
   "cell_type": "code",
   "execution_count": 11,
   "metadata": {},
   "outputs": [
    {
     "name": "stderr",
     "output_type": "stream",
     "text": [
      "/opt/anaconda3/lib/python3.7/site-packages/ipykernel_launcher.py:5: DeprecationWarning: Call to deprecated `__getitem__` (Method will be removed in 4.0.0, use self.wv.__getitem__() instead).\n",
      "  \"\"\"\n"
     ]
    }
   ],
   "source": [
    "representation = [tweet2vec(items,model) for items in tweets_cleaned]\n",
    "embeded_tweets = np.array(representation)"
   ]
  },
  {
   "cell_type": "code",
   "execution_count": 12,
   "metadata": {},
   "outputs": [],
   "source": [
    "df_tweets['embeded_tweets'] = list(embeded_tweets)"
   ]
  },
  {
   "cell_type": "code",
   "execution_count": 18,
   "metadata": {},
   "outputs": [],
   "source": [
    "def scoring(model, tweets_cleaned,embeded_tweets):\n",
    "    print(\"\\nHow many returned tweets you want?\")\n",
    "    top = input()\n",
    "    top = int(top)\n",
    "    \n",
    "    print(\"\\nInsert your query:\")\n",
    "    query_input = input()\n",
    "    \n",
    "    \n",
    "    \n",
    "    #Transform query\n",
    "    query = query2vec(query_input, model)\n",
    "    \n",
    "    #cosine similarity\n",
    "    docScores=[ [np.dot(curDocVec, query), i] for i, curDocVec in zip(df_tweets.index,df_tweets['embeded_tweets'] )]\n",
    "    docScores.sort(reverse=True)\n",
    "    \n",
    "    #display result:\n",
    "    print(\"\\n======================\\nTop {} results out of {} for the searched query:\\n\".format(top, len(docScores)))\n",
    "    results = pd.DataFrame(columns=['for_query','tweet', 'username', 'date', 'hashtags', 'likes', 'retweets', 'url'])\n",
    "    count = 0\n",
    "\n",
    "    for scores in docScores[:top] :\n",
    "        d_id = scores[1]\n",
    "        results.loc[count,'for_query'] = query_input\n",
    "        results.loc[count,'tweet'] = df_tweets.loc[d_id, \"full_text\"]\n",
    "        results.loc[count,'username'] = df_tweets.loc[d_id, \"user\"]['screen_name']\n",
    "        results.loc[count,'date'] = df_tweets.loc[d_id, \"created_at\"]\n",
    "        results.loc[count,'hashtags'] = [df_tweets.loc[0,'entities']['hashtags'][i]['text'] for i in range(len(df_tweets.loc[0,'entities']['hashtags']))]\n",
    "        results.loc[count,'likes'] = df_tweets.loc[d_id, \"favorite_count\"]\n",
    "        results.loc[count,'retweets'] = df_tweets.loc[d_id, \"retweet_count\"]\n",
    "        results.loc[count,'url'] = \"https://twitter.com/twitter/statuses/\"+str(df_tweets.loc[d_id, \"id\"])\n",
    "        count +=1\n",
    "\n",
    "    return results"
   ]
  },
  {
   "cell_type": "code",
   "execution_count": 19,
   "metadata": {},
   "outputs": [],
   "source": [
    "totalresults = pd.DataFrame()"
   ]
  },
  {
   "cell_type": "code",
   "execution_count": 40,
   "metadata": {},
   "outputs": [
    {
     "name": "stdout",
     "output_type": "stream",
     "text": [
      "\n",
      "How many returned tweets you want?\n",
      "20\n",
      "\n",
      "Insert your query:\n",
      "All lives matter\n",
      "\n",
      "======================\n",
      "Top 20 results out of 11546 for the searched query:\n",
      "\n"
     ]
    },
    {
     "name": "stderr",
     "output_type": "stream",
     "text": [
      "/opt/anaconda3/lib/python3.7/site-packages/ipykernel_launcher.py:6: DeprecationWarning: Call to deprecated `__getitem__` (Method will be removed in 4.0.0, use self.wv.__getitem__() instead).\n",
      "  \n"
     ]
    }
   ],
   "source": [
    "results = scoring(model, tweets_cleaned, embeded_tweets)\n",
    "totalresults = totalresults.append(results)"
   ]
  },
  {
   "cell_type": "code",
   "execution_count": 42,
   "metadata": {},
   "outputs": [],
   "source": [
    "totalresults.to_csv(\"../other_outputs/rq1c.tsv\", sep=\"\\t\")"
   ]
  },
  {
   "cell_type": "markdown",
   "metadata": {},
   "source": [
    "## TSNE"
   ]
  },
  {
   "cell_type": "code",
   "execution_count": 43,
   "metadata": {},
   "outputs": [],
   "source": [
    "from sklearn.manifold import TSNE"
   ]
  },
  {
   "cell_type": "code",
   "execution_count": 44,
   "metadata": {},
   "outputs": [],
   "source": [
    "tsne_model_en_2d = TSNE(perplexity=15, n_components=2, init='pca', n_iter=250, random_state=32)\n",
    "embeddings_en_2d = np.array(tsne_model_en_2d.fit_transform(embeded_tweets))"
   ]
  },
  {
   "cell_type": "code",
   "execution_count": 45,
   "metadata": {},
   "outputs": [
    {
     "data": {
      "text/plain": [
       "<matplotlib.collections.PathCollection at 0x7fd16bf59f10>"
      ]
     },
     "execution_count": 45,
     "metadata": {},
     "output_type": "execute_result"
    },
    {
     "data": {
      "image/png": "[encoded data removed]",
      "text/plain": [
       "<Figure size 1440x720 with 1 Axes>"
      ]
     },
     "metadata": {
      "needs_background": "light"
     },
     "output_type": "display_data"
    }
   ],
   "source": [
    "x = embeddings_en_2d[:, 0]\n",
    "y = embeddings_en_2d[:, 1]\n",
    "plt.figure(figsize=(20,10))\n",
    "plt.scatter(x, y, c='red')"
   ]
  },
  {
   "cell_type": "markdown",
   "metadata": {},
   "source": [
    "## Clustering"
   ]
  },
  {
   "cell_type": "code",
   "execution_count": 46,
   "metadata": {},
   "outputs": [],
   "source": [
    "NUM_CLUSTERS = 2"
   ]
  },
  {
   "cell_type": "code",
   "execution_count": 47,
   "metadata": {},
   "outputs": [],
   "source": [
    "from sklearn.cluster import KMeans\n",
    "kmeans = KMeans(n_clusters=NUM_CLUSTERS, random_state=0,max_iter=1000).fit(embeddings_en_2d)\n",
    "df_tweets[\"cluster\"] = kmeans.labels_\n"
   ]
  },
  {
   "cell_type": "code",
   "execution_count": 54,
   "metadata": {},
   "outputs": [],
   "source": [
    "import nltk"
   ]
  },
  {
   "cell_type": "code",
   "execution_count": 79,
   "metadata": {},
   "outputs": [
    {
     "name": "stdout",
     "output_type": "stream",
     "text": [
      "[('america', 7080), ('racism', 4995), ('', 3637), ('america ', 3220), ('blm', 2278), ('peopl', 2142), ('black', 2106), ('racism ', 1807), (' amp ', 1739), ('white', 1672)]\n",
      "\n",
      "\n",
      "[('replac', 495), ('america', 466), (' ', 406), ('black', 323), ('live', 323), ('matter', 301), ('church', 252), (' amp ', 248), ('sign ', 247), ('racist', 246)]\n",
      "\n",
      "\n"
     ]
    }
   ],
   "source": [
    "grouped = df_tweets.groupby(by = df_tweets['cluster'])\n",
    "for cluster in grouped.groups.keys():\n",
    "    df = grouped.get_group(cluster)\n",
    "    tweets_cleaned = [se.getTerms(text) for text in df[\"full_text\"]]\n",
    "    text = [text for text in tweets_cleaned]\n",
    "    text = [text for text in text for text in text]\n",
    "    freq = nltk.FreqDist(text)\n",
    "    print(freq.most_common(10))\n",
    "    print(\"\\n\")"
   ]
  },
  {
   "cell_type": "code",
   "execution_count": null,
   "metadata": {},
   "outputs": [],
   "source": []
  }
 ],
 "metadata": {
  "kernelspec": {
   "display_name": "Python 3",
   "language": "python",
   "name": "python3"
  },
  "language_info": {
   "codemirror_mode": {
    "name": "ipython",
    "version": 3
   },
   "file_extension": ".py",
   "mimetype": "text/x-python",
   "name": "python",
   "nbconvert_exporter": "python",
   "pygments_lexer": "ipython3",
   "version": "3.7.7"
  }
 },
 "nbformat": 4,
 "nbformat_minor": 4
}
