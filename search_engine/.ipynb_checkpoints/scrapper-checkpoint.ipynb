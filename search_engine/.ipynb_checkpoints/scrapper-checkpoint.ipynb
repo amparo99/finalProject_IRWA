{
 "cells": [
  {
   "cell_type": "markdown",
   "metadata": {},
   "source": [
    "# FINAL PROJECT"
   ]
  },
  {
   "cell_type": "markdown",
   "metadata": {},
   "source": [
    "#### By Amparo Alías"
   ]
  },
  {
   "cell_type": "markdown",
   "metadata": {},
   "source": [
    "Collection of tweets from Twitter and building a search engine to return the most relevant tweets given a query. They Tweets of this project will be related to the topic: #BlackLivesMatter    "
   ]
  },
  {
   "cell_type": "code",
   "execution_count": 1,
   "metadata": {},
   "outputs": [],
   "source": [
    "import tweepy\n",
    "from tweepy import *\n",
    " \n",
    "import pandas as pd\n",
    "import csv\n",
    "import json\n",
    "import re \n",
    "import string\n",
    " "
   ]
  },
  {
   "cell_type": "code",
   "execution_count": 2,
   "metadata": {},
   "outputs": [],
   "source": [
    "## access token informations \n",
    "access_token1 = \"1713827162-u7FwIX40Ik9ZOGFdOhvQ8ptdeFkYDgD7D9vykV9\"\n",
    "access_token_secret1 = \"6G55EqsADCYfTNFxA1Nq6apNqszSXLkovDHXuhppWdLLt\"\n",
    "\n",
    "consumer_key1 = \"iO6qKvIwdpcEs8tdhAVKZPBa7\"\n",
    "consumer_secret1 = \"TYyl5uKremIto1YD0nsF7HkfwoOIRpjpCHJjmHgzzHKwKSOUkh\""
   ]
  },
  {
   "cell_type": "code",
   "execution_count": 3,
   "metadata": {},
   "outputs": [],
   "source": [
    "auth = OAuthHandler(consumer_key1, consumer_secret1)\n",
    "auth.set_access_token(access_token1, access_token_secret1)\n",
    "api = API(auth_handler=auth, wait_on_rate_limit=True, wait_on_rate_limit_notify=True)"
   ]
  },
  {
   "cell_type": "code",
   "execution_count": null,
   "metadata": {},
   "outputs": [],
   "source": []
  },
  {
   "cell_type": "code",
   "execution_count": 10,
   "metadata": {},
   "outputs": [
    {
     "name": "stderr",
     "output_type": "stream",
     "text": [
      "Rate limit reached. Sleeping for: 752\n"
     ]
    }
   ],
   "source": [
    "file = open('tweets.json', 'a+')\n",
    "query = 'BlackLivesMatter OR AllLivesMatter OR BlueLivesMatter OR GeorgeFloyd OR BLM OR racism America' \n",
    "for tweet in tweepy.Cursor(api.search, \n",
    "                            q= query, \n",
    "                            count= 100000,\n",
    "                            lang=\"en\",\n",
    "                            tweet_mode = \"extended\",\n",
    "                            since=\"2020-01-01\").items():\n",
    "    file.write(json.dumps(tweet._json) + '\\n')"
   ]
  }
 ],
 "metadata": {
  "kernelspec": {
   "display_name": "Python 3",
   "language": "python",
   "name": "python3"
  },
  "language_info": {
   "codemirror_mode": {
    "name": "ipython",
    "version": 3
   },
   "file_extension": ".py",
   "mimetype": "text/x-python",
   "name": "python",
   "nbconvert_exporter": "python",
   "pygments_lexer": "ipython3",
   "version": "3.7.7"
  }
 },
 "nbformat": 4,
 "nbformat_minor": 4
}
